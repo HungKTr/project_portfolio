{
 "cells": [
  {
   "cell_type": "code",
   "execution_count": 1,
   "id": "6d9862e5",
   "metadata": {
    "scrolled": true
   },
   "outputs": [
    {
     "name": "stdout",
     "output_type": "stream",
     "text": [
      "     product_id     ordered_at  quantity_ordered\n",
      "0       3998909  9/18/18 17:51                 1\n",
      "1       3998909  9/18/18 12:52                 1\n",
      "2       3998909  9/18/18 11:33                 1\n",
      "3       3998909  9/18/18 18:47                 1\n",
      "4       3998909  9/18/18 17:36                 1\n",
      "..          ...            ...               ...\n",
      "170     4085861  9/13/18 23:29                 1\n",
      "171          64  9/11/18 19:32                 1\n",
      "172          64  9/14/18 20:10                 1\n",
      "173          64  9/12/18 16:00                 1\n",
      "174          64  9/12/18 13:23                 1\n",
      "\n",
      "[175 rows x 3 columns]\n",
      "    product_id  old_price  new_price     updated_at\n",
      "0           64     270000     239000  9/10/18 16:37\n",
      "1      3954203      60000      64000  9/11/18 11:54\n",
      "2      3954203      60500      57500  9/17/18 22:59\n",
      "3      3954203      64000      60500   9/15/18 3:49\n",
      "4      3954203      68800      60000  9/10/18 16:32\n",
      "5      3998909      15500      16500   9/16/18 5:09\n",
      "6      3998909      17000      15500   9/13/18 6:43\n",
      "7      3998909      19000      17000  9/10/18 16:35\n",
      "8      4085861      53500      52000  9/17/18 22:59\n",
      "9      4085861      53500      67000   9/12/18 3:51\n",
      "10     4085861      58000      53500   9/17/18 3:35\n",
      "11     4085861      60000      53500   9/11/18 8:51\n",
      "12     4085861      62500      58000   9/15/18 3:51\n",
      "13     4085861      67000      62500   9/13/18 6:43\n"
     ]
    }
   ],
   "source": [
    "import pandas as pd\n",
    "import numpy as np\n",
    "\n",
    "#load file\n",
    "sale = pd.read_csv('sales.csv')\n",
    "price = pd.read_csv('prices.csv')\n",
    "print(sale)\n",
    "print(price)"
   ]
  },
  {
   "cell_type": "code",
   "execution_count": 2,
   "id": "2164057b",
   "metadata": {},
   "outputs": [],
   "source": [
    "#convert ordered_at, updated_at to datetime object (using pd.to_datetime)\n",
    "sale['ordered_at'] = pd.to_datetime(sale['ordered_at'])\n",
    "price['updated_at'] = pd.to_datetime(price['updated_at'])"
   ]
  },
  {
   "cell_type": "code",
   "execution_count": 3,
   "id": "17047f0f",
   "metadata": {},
   "outputs": [],
   "source": [
    "#def function that return the cloest date that price update\n",
    "def closest_update_date (id, order_date):\n",
    "    new_date = price['updated_at'][price['product_id'] == id]\n",
    "    if order_date < new_date.min():\n",
    "       closest_date = new_date.min()\n",
    "    else :\n",
    "       closest_date = new_date[order_date > new_date].max()                            \n",
    "    return closest_date"
   ]
  },
  {
   "cell_type": "code",
   "execution_count": 4,
   "id": "0d4e2540",
   "metadata": {},
   "outputs": [],
   "source": [
    "#def function that return closest price base on productid and order_date\n",
    "def return_closest_price(id, order_date):\n",
    "    day = closest_update_date (id, order_date)\n",
    "    if order_date < day :\n",
    "       closest_price = price['old_price'][(price['updated_at'] == day) & (price['product_id'] == id)].values[0]\n",
    "    else :\n",
    "       closest_price = price['new_price'][(price['updated_at'] == day) & (price['product_id'] == id)].values[0]                              \n",
    "    return closest_price"
   ]
  },
  {
   "cell_type": "code",
   "execution_count": 5,
   "id": "43c6ad1e",
   "metadata": {},
   "outputs": [],
   "source": [
    "#Find price corresponding each row and append to update_price array.\n",
    "update_price=[]\n",
    "for i in np.arange(len(sale)):\n",
    "    updated_price = return_closest_price(sale.iloc[i]['product_id'], sale.iloc[i]['ordered_at'])\n",
    "    update_price.append(updated_price)"
   ]
  },
  {
   "cell_type": "code",
   "execution_count": 6,
   "id": "19bc1996",
   "metadata": {},
   "outputs": [],
   "source": [
    "#create and calculate price and revenue column\n",
    "sale[\"price\"] = update_price\n",
    "sale[\"revenue\"] = sale['price'] * sale['quantity_ordered']"
   ]
  },
  {
   "cell_type": "code",
   "execution_count": 7,
   "id": "c841553e",
   "metadata": {},
   "outputs": [
    {
     "name": "stdout",
     "output_type": "stream",
     "text": [
      "     product_id          ordered_at  quantity_ordered   price  revenue\n",
      "0       3998909 2018-09-18 17:51:00                 1   16500    16500\n",
      "1       3998909 2018-09-18 12:52:00                 1   16500    16500\n",
      "2       3998909 2018-09-18 11:33:00                 1   16500    16500\n",
      "3       3998909 2018-09-18 18:47:00                 1   16500    16500\n",
      "4       3998909 2018-09-18 17:36:00                 1   16500    16500\n",
      "..          ...                 ...               ...     ...      ...\n",
      "170     4085861 2018-09-13 23:29:00                 1   62500    62500\n",
      "171          64 2018-09-11 19:32:00                 1  239000   239000\n",
      "172          64 2018-09-14 20:10:00                 1  239000   239000\n",
      "173          64 2018-09-12 16:00:00                 1  239000   239000\n",
      "174          64 2018-09-12 13:23:00                 1  239000   239000\n",
      "\n",
      "[175 rows x 5 columns]\n"
     ]
    }
   ],
   "source": [
    "#export to csv file\n",
    "print(sale)\n",
    "sale.to_csv(\"revenue.csv\")"
   ]
  },
  {
   "cell_type": "code",
   "execution_count": 8,
   "id": "59863a73",
   "metadata": {},
   "outputs": [
    {
     "name": "stdout",
     "output_type": "stream",
     "text": [
      "            revenue\n",
      "product_id         \n",
      "64           956000\n",
      "3954203      877500\n",
      "3998909      280500\n",
      "4085861     8247500\n"
     ]
    }
   ],
   "source": [
    "print(sale.groupby('product_id').agg({'revenue':sum}))"
   ]
  },
  {
   "cell_type": "code",
   "execution_count": null,
   "id": "50c704db",
   "metadata": {},
   "outputs": [],
   "source": []
  }
 ],
 "metadata": {
  "kernelspec": {
   "display_name": "Python 3",
   "language": "python",
   "name": "python3"
  },
  "language_info": {
   "codemirror_mode": {
    "name": "ipython",
    "version": 3
   },
   "file_extension": ".py",
   "mimetype": "text/x-python",
   "name": "python",
   "nbconvert_exporter": "python",
   "pygments_lexer": "ipython3",
   "version": "3.8.8"
  }
 },
 "nbformat": 4,
 "nbformat_minor": 5
}
